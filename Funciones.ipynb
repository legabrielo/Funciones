{
 "cells": [
  {
   "attachments": {},
   "cell_type": "markdown",
   "metadata": {},
   "source": [
    "### Este es un notebook donde anotaré todas las funciones que he usado \n"
   ]
  },
  {
   "cell_type": "code",
   "execution_count": null,
   "metadata": {},
   "outputs": [],
   "source": [
    "import matplotlib_inline as plt \n",
    "import pandas as pd \n",
    "import numpy as np \n",
    "from statsmodels.tsa.stattools import adfuller"
   ]
  },
  {
   "cell_type": "code",
   "execution_count": null,
   "metadata": {},
   "outputs": [],
   "source": [
    "# Para Series temporales\n",
    "\n",
    "def plot_df(df, x, y, title='', xlabel=''):\n",
    "    '''\n",
    "    Creamos una función para ver las líneas temporales \n",
    "    Se necesita:\n",
    "    df -> DataFrame\n",
    "    x -> Valores de tiempo \n",
    "    y -> Valores a graficar \n",
    "    title -> Título que se le pone a la gráfica\n",
    "    xlabel -> Valor de el nombre del eje y \n",
    "    '''\n",
    "    plt.figure(figsize=(16,5))\n",
    "    plt.plot(x, y, color='tab:blue')\n",
    "    plt.gca().set(xlabel=xlabel, title=title)\n",
    "    plt.show()\n",
    "\n",
    "\n",
    "def ad_test(df):\n",
    "    ''' \n",
    "    Aquí creamos una funcion para calcular los valores del Dickey-Fuller Test en una serie temporal\n",
    "    Se necesita:\n",
    "    df -> DataFrame\n",
    "    '''\n",
    "    dftest = adfuller(df, autolag = 'AIC')\n",
    "    print('1. ADF:', dftest[0])\n",
    "    print('2. P-value:', dftest[1])\n",
    "    print('3. Number of lags:', dftest[2])\n",
    "    print('4. Nume of observtions used for ADF Regression and Critical Values Calculation:', dftest[3])\n",
    "    print('5. Critical Values:')\n",
    "    for key, val in dftest[4].items():\n",
    "        print('\\t', key, \":\", val)\n",
    "\n",
    "def create_features(df):\n",
    "    \"\"\"\n",
    "    Creación de caracteristicas de una serie de tiempo \n",
    "    Se necesita: \n",
    "    df -> DataFrame \n",
    "    \"\"\"\n",
    "    df = df.copy()\n",
    "    df['Dayofweek'] = df.index.dayofweek\n",
    "    df['Quarter'] = df.index.quarter\n",
    "    df['Month'] = df.index.month\n",
    "    df['Year'] = df.index.year\n",
    "    df['Dayofyear'] = df.index.dayofyear\n",
    "    df['Dayofmonth'] = df.index.day\n",
    "    df['Weekofyear'] = df.index.isocalendar().week\n",
    "    return df"
   ]
  },
  {
   "cell_type": "code",
   "execution_count": null,
   "metadata": {},
   "outputs": [],
   "source": []
  }
 ],
 "metadata": {
  "language_info": {
   "name": "python"
  },
  "orig_nbformat": 4
 },
 "nbformat": 4,
 "nbformat_minor": 2
}
